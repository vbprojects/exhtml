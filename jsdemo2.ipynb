{
 "cells": [
  {
   "cell_type": "code",
   "execution_count": 1,
   "metadata": {},
   "outputs": [],
   "source": [
    "var tools = require('./vpj.js');\n",
    "var fs = require('fs');"
   ]
  },
  {
   "cell_type": "code",
   "execution_count": 6,
   "metadata": {},
   "outputs": [
    {
     "name": "stdout",
     "output_type": "stream",
     "text": [
      "{\n",
      "  process_string: [Function: process_string],\n",
      "  macros: { '!weird': [ [tag_element] ] },\n",
      "  global_state: {\n",
      "    '@0': text_element {\n",
      "      children: [],\n",
      "      text: 'It does ',\n",
      "      parent: [macro_element]\n",
      "    }\n",
      "  }\n",
      "}\n"
     ]
    }
   ],
   "source": [
    "console.log(tools)"
   ]
  },
  {
   "cell_type": "code",
   "execution_count": 7,
   "metadata": {},
   "outputs": [
    {
     "data": {
      "text/plain": [
       "'<head><meta name=\"viewport\" content=\"width=device-width, initial-scale=1.0\"/>\\n' +\n",
       "  '<link href=\"https://cdn.jsdelivr.net/npm/daisyui@4.10.1/dist/full.min.css\" rel=\"stylesheet\" type=\"text/css\"/>\\n' +\n",
       "  '<script src=\"https://cdn.tailwindcss.com\"></script>\\n' +\n",
       "  '<title>VPML - Example\\n' +\n",
       "  '</title>\\n' +\n",
       "  '</head>\\n' +\n",
       "  '<html><div>It does  works!</div>\\n' +\n",
       "  '<div>Does This Work?</div>\\n' +\n",
       "  '<body class=\"w-full\"><div class=\"navbar justify-center bg-base-300 sm:text-3xl text-5xl\"><span class=\"sm:hidden\">VPML\\n' +\n",
       "  '</span>\\n' +\n",
       "  '<span class=\"hidden sm:block\">VPML - A Simple HTML Template Language\\n' +\n",
       "  '</span>\\n' +\n",
       "  '</div>\\n' +\n",
       "  '<div class=\"sm:container mx-auto py-4 sm:px-6 px-4 lg:max-w-[800px]\"><h2 class=\"text-2xl md:text-3xl text-blue-300 mb-4\">Learn VPML\\n' +\n",
       "  '</h2>\\n' +\n",
       "  '<p class=\"text-base md:text-lg text-gray-300\">VPML (Very Personal Markup Language) is a simple templating language that compiles into HTML. It uses indentation to determine element hierarchy. The language is meant to be flexible, predictable, and easy to read. The repo also comes with tooling for compiling and using General Preprocesser (GPP) to serve as a preprocessor for VPML files.\\n' +\n",
       "  '</p>\\n' +\n",
       "  '<div id=\"lt\" class=\"container mx-auto px-4 sm:px-6 lg:px-8 py-3\"><h3 class=\"text-xl md:text-2xl text-blue-300 mb-3\">Syntax\\n' +\n",
       "  '</h3>\\n' +\n",
       "  `<ul class=\"list-disc pl-5 text-gray-400\"><li class=\"li_tag\">Tokens are delimited by spaces ' '.\\n` +\n",
       "  '</li>\\n' +\n",
       "  `<li class=\"text-sm md:text-base\">Newline '\\\\\\\\n' and carriage return '\\\\\\\\r' characters are stripped from tokens.\\n` +\n",
       "  '</li>\\n' +\n",
       "  `<li class=\"text-sm md:text-base\">Lines whose first token is a valid HTML tag name or first token starts with '<' are processed as HTML elements.\\n` +\n",
       "  '</li>\\n' +\n",
       "  `<li class=\"text-sm md:text-base\">If being processed as an element, if the first token ends with '>', it is considered as a self-closing tag.\\n` +\n",
       "  '</li>\\n' +\n",
       "  `<li class=\"text-sm md:text-base\">Tokens starting with '#' within a line are considered as part of the ID for the element.\\n` +\n",
       "  '</li>\\n' +\n",
       "  `<li class=\"text-sm md:text-base\">Tokens containing '=' within a line are processed as attributes with their respective values.\\n` +\n",
       "  '</li>\\n' +\n",
       "  '<li class=\"text-sm md:text-base\">Tokens that do not fit the rules for ID or attributes are assumed to be class names.\\n' +\n",
       "  '</li>\\n' +\n",
       "  `<li class=\"text-sm md:text-base\">Lines that do not start with a valid HTML tag or start with 'raw' are processed as text content.\\n` +\n",
       "  '</li>\\n' +\n",
       "  `<li class=\"text-sm md:text-base\">Comments are denoted by a line starting with '#'.\\n` +\n",
       "  '</li>\\n' +\n",
       "  '<li class=\"text-sm md:text-base\">If using GPP, you can define macros and use them within your VPML files. I recommend latex style macros.\\n' +\n",
       "  '</li>\\n' +\n",
       "  '</ul>\\n' +\n",
       "  '</div>\\n' +\n",
       "  '<div id=\"lt\" class=\"container mx-auto px-4 sm:px-6 lg:px-8 py-5\"><h3 class=\"text-xl md:text-2xl text-blue-300 mb-3\">Example\\n' +\n",
       "  '</h3>\\n' +\n",
       "  '<pre class=\"p-4 bg-gray-800 text-gray-300 whitespace-pre-wrap\">head\\n' +\n",
       "  '  title\\n' +\n",
       "  '    VPML - Example\\n' +\n",
       "  '  link rel=\"stylesheet\" href=\"styles.css\"\\n' +\n",
       "  'html\\n' +\n",
       "  '# this is a comment\\n' +\n",
       "  '    body #body bg-black\\n' +\n",
       "  '        div #content bg-gray-800 #1\\n' +\n",
       "  '            h1 bg-blue\\n' +\n",
       "  '                Hello World\\n' +\n",
       "  '            p\\n' +\n",
       "  '#           this is a comment\\n' +\n",
       "  '                raw This is my site\\n' +\n",
       "  '        div #content bg-gray-800 #2\\n' +\n",
       "  '            h1 bg-blue\\n' +\n",
       "  '                Hello World\\n' +\n",
       "  '</pre>\\n' +\n",
       "  '<h3 class=\"text-xl md:text-2xl text-blue-300 mb-3\">Output\\n' +\n",
       "  '</h3>\\n' +\n",
       "  '<pre class=\"p-4 bg-gray-800 text-gray-300 whitespace-pre-wrap\">&lt head &gt\\n' +\n",
       "  '  &lt title &gt\\n' +\n",
       "  '    VPML - Example\\n' +\n",
       "  '  &lt / title &gt\\n' +\n",
       "  '  &lt link rel=\"stylesheet\" href=\"styles.css\" &gt\\n' +\n",
       "  '  &lt / link &gt\\n' +\n",
       "  '&lt / head &gt\\n' +\n",
       "  '&lt html &gt\\n' +\n",
       "  '    &lt body id=\"body\" class=\"bg-black\" &gt\\n' +\n",
       "  '        &lt div id=\"content1\" class=\"bg-gray-800\" &gt\\n' +\n",
       "  '            &lt h1 class=\"bg-blue\" &gt\\n' +\n",
       "  '                Hello World\\n' +\n",
       "  '            &lt / h1 &gt\\n' +\n",
       "  '            &lt p &gt\\n' +\n",
       "  '                This is my site\\n' +\n",
       "  '            &lt / p &gt\\n' +\n",
       "  '        &lt / div &gt\\n' +\n",
       "  '        &lt div id=\"content2\" class=\"bg-gray-800\" &gt\\n' +\n",
       "  '            &lt h1 class=\"bg-blue\" &gt\\n' +\n",
       "  '                Hello World\\n' +\n",
       "  '            &lt / h1 &gt\\n' +\n",
       "  '        &lt / div &gt\\n' +\n",
       "  '    &lt / body &gt\\n' +\n",
       "  '&lt / html &gt\\n' +\n",
       "  '</pre>\\n' +\n",
       "  '</div>\\n' +\n",
       "  '</div>\\n' +\n",
       "  '</body>\\n' +\n",
       "  '</html>\\n'"
      ]
     },
     "execution_count": 7,
     "metadata": {},
     "output_type": "execute_result"
    }
   ],
   "source": [
    "infile = fs.readFileSync(\"index2.vpml\", \"utf8\");\n",
    "output = tools.process_string(infile.toString());"
   ]
  },
  {
   "cell_type": "code",
   "execution_count": 8,
   "metadata": {},
   "outputs": [
    {
     "name": "stdout",
     "output_type": "stream",
     "text": [
      "{\n",
      "  '@0': text_element {\n",
      "    children: [],\n",
      "    text: 'It does ',\n",
      "    parent: macro_element {\n",
      "      children: [Array],\n",
      "      text: '',\n",
      "      parent: [tag_element],\n",
      "      name: '!weird'\n",
      "    }\n",
      "  }\n",
      "}\n"
     ]
    }
   ],
   "source": [
    "console.log(tools.global_state)"
   ]
  },
  {
   "cell_type": "code",
   "execution_count": null,
   "metadata": {},
   "outputs": [],
   "source": []
  }
 ],
 "metadata": {
  "kernelspec": {
   "display_name": "JavaScript (Node.js)",
   "language": "javascript",
   "name": "javascript"
  },
  "language_info": {
   "file_extension": ".js",
   "mimetype": "application/javascript",
   "name": "javascript",
   "version": "20.12.2"
  }
 },
 "nbformat": 4,
 "nbformat_minor": 2
}
