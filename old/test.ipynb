{
 "cells": [
  {
   "cell_type": "code",
   "execution_count": 210,
   "metadata": {},
   "outputs": [
    {
     "name": "stderr",
     "output_type": "stream",
     "text": [
      "WARNING: replacing module internal.\n"
     ]
    },
    {
     "data": {
      "text/plain": [
       "backward (generic function with 2 methods)"
      ]
     },
     "metadata": {},
     "output_type": "display_data"
    }
   ],
   "source": [
    "module internal\n",
    "    mutable struct leaf\n",
    "        text :: AbstractString\n",
    "    end\n",
    "    mutable struct element\n",
    "        tag :: AbstractString\n",
    "        classes :: Union{Vector{AbstractString}, Nothing}\n",
    "        attributes :: Union{Vector{AbstractString}, Nothing}\n",
    "        id :: Union{AbstractString, Nothing}\n",
    "    end\n",
    "\n",
    "    function get_class_str(elem::element)\n",
    "        if elem.classes === nothing\n",
    "            return \"\"\n",
    "        end\n",
    "        return \"class=\\\"$(join(elem.classes, \" \"))\\\"\"        \n",
    "    end\n",
    "\n",
    "    function get_attr_str(elem::element)\n",
    "        if elem.attributes === nothing\n",
    "            return \"\"\n",
    "        end\n",
    "        return join(elem.attributes, \" \")\n",
    "    end\n",
    "\n",
    "    function get_id_str(elem::element)\n",
    "        if elem.id === nothing\n",
    "            return \"\"\n",
    "        end\n",
    "        return \"id=\\\"$(elem.id)\\\"\"\n",
    "    end\n",
    "\n",
    "    function forward(node::leaf)\n",
    "        return node.text\n",
    "    end\n",
    "    function forward(node::element)\n",
    "        return \"<$(node.tag) $(get_id_str(node)) $(get_class_str(node)) $(get_attr_str(node))>\"\n",
    "    end\n",
    "    function backward(node::leaf)\n",
    "        return \"\"\n",
    "    end\n",
    "    function backward(node::element)\n",
    "        return \"</$(node.tag)>\"\n",
    "    end\n",
    "end\n",
    "using .internal\n",
    "leaf = internal.leaf\n",
    "element = internal.element\n",
    "forward = internal.forward\n",
    "backward = internal.backward\n"
   ]
  },
  {
   "cell_type": "code",
   "execution_count": 239,
   "metadata": {},
   "outputs": [
    {
     "data": {
      "text/plain": [
       "get_hierarchy (generic function with 1 method)"
      ]
     },
     "metadata": {},
     "output_type": "display_data"
    }
   ],
   "source": [
    "using Base.Iterators: peel\n",
    "reserved_tags = Set([\"!--...--\", \"!DOCTYPE\", \"a\", \"abbr\", \"acronym\", \"address\", \"applet\", \"area\", \"article\", \"aside\", \"audio\", \"b\", \"base\", \"basefont\", \"bdi\", \"bdo\", \"big\", \"blockquote\", \"body\", \"br\", \"button\", \"canvas\", \"caption\", \"center\", \"cite\", \"code\", \"col\", \"colgroup\", \"data\", \"datalist\", \"dd\", \"del\", \"details\", \"dfn\", \"dialog\", \"dir\", \"div\", \"dl\", \"dt\", \"em\", \"embed\", \"fieldset\", \"figcaption\", \"figure\", \"font\", \"footer\", \"form\", \"frame\", \"frameset\", \"h1\", \"h2\", \"h3\", \"h4\", \"h5\", \"h6\", \"head\", \"header\", \"hgroup\", \"hr\", \"html\", \"i\", \"iframe\", \"img\", \"input\", \"ins\", \"kbd\", \"label\", \"legend\", \"li\", \"link\", \"main\", \"map\", \"mark\", \"menu\", \"meta\", \"meter\", \"nav\", \"noframes\", \"noscript\", \"object\", \"ol\", \"optgroup\", \"option\", \"output\", \"p\", \"param\", \"picture\", \"pre\", \"progress\", \"q\", \"rp\", \"rt\", \"ruby\", \"s\", \"samp\", \"script\", \"search\", \"section\", \"select\", \"small\", \"source\", \"span\", \"strike\", \"strong\", \"style\", \"sub\", \"summary\", \"sup\", \"svg\", \"table\", \"tbody\", \"td\", \"template\", \"textarea\", \"tfoot\", \"th\", \"thead\", \"time\", \"title\", \"tr\", \"track\", \"tt\", \"u\", \"ul\", \"var\", \"video\", \"wbr\"]);\n",
    "\n",
    "\n",
    "\n",
    "is_reserved_tag(tag) = tag in reserved_tags\n",
    "is_raw(tag) = tag == \"raw\"\n",
    "is_attr(tag) = occursin('=',tag)\n",
    "is_id(tag) = occursin(\"#\",tag)\n",
    "\n",
    "function indentlevel(s :: SubString{String})\n",
    "    for i in 1:length(s)\n",
    "        if s[i] != ' '\n",
    "            return div(i, 4)\n",
    "        end\n",
    "    end\n",
    "end\n",
    "function process_node(i)\n",
    "    if i > 0\n",
    "        return forward(nodes[i])\n",
    "    end\n",
    "    return backward(nodes[-i])\n",
    "end\n",
    "function process_line(line :: AbstractString) :: Union{leaf, element}\n",
    "    words = filter(!=(\"\"), split(strip(line), ' '))\n",
    "    if first(words) in reserved_tags\n",
    "        tag, rest = peel(words)\n",
    "        classes = []\n",
    "        attributes = []\n",
    "        id = nothing\n",
    "        \n",
    "        for word in rest\n",
    "            if is_attr(word)\n",
    "                push!(attributes, word)\n",
    "            elseif is_id(word)\n",
    "                id = word[2:end]\n",
    "            else\n",
    "                push!(classes, word)\n",
    "            end\n",
    "        end\n",
    "        if length(classes) == 0\n",
    "            classes = nothing\n",
    "        end\n",
    "        if length(attributes) == 0\n",
    "            attributes = nothing\n",
    "        end\n",
    "        return element(tag, classes, attributes, id)\n",
    "    elseif first(words) == \"raw\"\n",
    "            return lstrip(line)[4:end]\n",
    "    end\n",
    "    return leaf(strip(line))\n",
    "end\n",
    "function get_hierarchy(indent_levels :: Vector{Int})\n",
    "    Stack = []\n",
    "    result = []\n",
    "    prev_indent = -1\n",
    "\n",
    "    for (i, l) in enumerate(indent_levels)\n",
    "        while !isempty(Stack) && indent_levels[Stack[end]] > l\n",
    "            push!(result, -1 * pop!(Stack))\n",
    "        end\n",
    "        push!(Stack, i)\n",
    "        push!(result, i)\n",
    "        prev_indent = l\n",
    "    end\n",
    "    while !isempty(Stack)\n",
    "        push!(result, -1 * pop!(Stack))\n",
    "    end\n",
    "\n",
    "    result\n",
    "end"
   ]
  },
  {
   "cell_type": "code",
   "execution_count": 243,
   "metadata": {},
   "outputs": [
    {
     "data": {
      "text/plain": [
       "process_file (generic function with 1 method)"
      ]
     },
     "metadata": {},
     "output_type": "display_data"
    }
   ],
   "source": [
    "function process_file(file_path :: AbstractString)\n",
    "    example = open(file_path, \"r\") do f\n",
    "        read(f, String)\n",
    "    end\n",
    "    lines = split(example,'\\n')\n",
    "    nodes = process_line.(lines)\n",
    "    indent_levels = lines .|> indentlevel\n",
    "    join(filter(!=(\"\"), get_hierarchy(lines .|> indentlevel) .|> process_node),\"\\n\")\n",
    "end"
   ]
  },
  {
   "cell_type": "code",
   "execution_count": 242,
   "metadata": {},
   "outputs": [
    {
     "name": "stdout",
     "output_type": "stream",
     "text": [
      "<body   >\n",
      "<div id=\"content\" class=\"align-center bg-color\" src=\"http://www.google.com/images/logos/ps_logo2.png\">\n",
      "<h1   >\n",
      "Hello World!\n",
      "</h1>\n",
      "</div>\n",
      "</body>"
     ]
    }
   ],
   "source": [
    "example = open(\"example.txt\", \"r\") do f\n",
    "    read(f, String)\n",
    "end\n",
    "lines = split(example,'\\n')\n",
    "nodes = process_line.(lines)\n",
    "indent_levels = lines .|> indentlevel\n",
    "join(filter(!=(\"\"), get_hierarchy(lines .|> indentlevel) .|> process_node),\"\\n\") |> print"
   ]
  }
 ],
 "metadata": {
  "kernelspec": {
   "display_name": "Julia 1.10.2",
   "language": "julia",
   "name": "julia-1.10"
  },
  "language_info": {
   "file_extension": ".jl",
   "mimetype": "application/julia",
   "name": "julia",
   "version": "1.10.2"
  }
 },
 "nbformat": 4,
 "nbformat_minor": 2
}
